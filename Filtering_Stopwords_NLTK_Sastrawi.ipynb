{
  "nbformat": 4,
  "nbformat_minor": 0,
  "metadata": {
    "colab": {
      "provenance": [],
      "authorship_tag": "ABX9TyPt5zHh85vwJpMv624bfHkH",
      "include_colab_link": true
    },
    "kernelspec": {
      "name": "python3",
      "display_name": "Python 3"
    },
    "language_info": {
      "name": "python"
    }
  },
  "cells": [
    {
      "cell_type": "markdown",
      "metadata": {
        "id": "view-in-github",
        "colab_type": "text"
      },
      "source": [
        "<a href=\"https://colab.research.google.com/github/YusufPutraBintangSatria/Filtering_Stopwords_NLTK-Sastrawi./blob/main/Filtering_Stopwords_NLTK_Sastrawi.ipynb\" target=\"_parent\"><img src=\"https://colab.research.google.com/assets/colab-badge.svg\" alt=\"Open In Colab\"/></a>"
      ]
    },
    {
      "cell_type": "code",
      "execution_count": 1,
      "metadata": {
        "colab": {
          "base_uri": "https://localhost:8080/"
        },
        "id": "WNR3y_gxWefz",
        "outputId": "58992362-03e3-4687-ac42-cda6b0c54c30"
      },
      "outputs": [
        {
          "output_type": "stream",
          "name": "stdout",
          "text": [
            "Requirement already satisfied: nltk in /usr/local/lib/python3.10/dist-packages (3.8.1)\n",
            "Collecting PyPDF2\n",
            "  Downloading pypdf2-3.0.1-py3-none-any.whl.metadata (6.8 kB)\n",
            "Collecting Sastrawi\n",
            "  Downloading Sastrawi-1.0.1-py2.py3-none-any.whl.metadata (909 bytes)\n",
            "Requirement already satisfied: click in /usr/local/lib/python3.10/dist-packages (from nltk) (8.1.7)\n",
            "Requirement already satisfied: joblib in /usr/local/lib/python3.10/dist-packages (from nltk) (1.4.2)\n",
            "Requirement already satisfied: regex>=2021.8.3 in /usr/local/lib/python3.10/dist-packages (from nltk) (2024.9.11)\n",
            "Requirement already satisfied: tqdm in /usr/local/lib/python3.10/dist-packages (from nltk) (4.66.5)\n",
            "Downloading pypdf2-3.0.1-py3-none-any.whl (232 kB)\n",
            "\u001b[2K   \u001b[90m━━━━━━━━━━━━━━━━━━━━━━━━━━━━━━━━━━━━━━━━\u001b[0m \u001b[32m232.6/232.6 kB\u001b[0m \u001b[31m8.0 MB/s\u001b[0m eta \u001b[36m0:00:00\u001b[0m\n",
            "\u001b[?25hDownloading Sastrawi-1.0.1-py2.py3-none-any.whl (209 kB)\n",
            "\u001b[2K   \u001b[90m━━━━━━━━━━━━━━━━━━━━━━━━━━━━━━━━━━━━━━━━\u001b[0m \u001b[32m209.7/209.7 kB\u001b[0m \u001b[31m10.6 MB/s\u001b[0m eta \u001b[36m0:00:00\u001b[0m\n",
            "\u001b[?25hInstalling collected packages: Sastrawi, PyPDF2\n",
            "Successfully installed PyPDF2-3.0.1 Sastrawi-1.0.1\n"
          ]
        }
      ],
      "source": [
        "pip install nltk PyPDF2 Sastrawi"
      ]
    },
    {
      "source": [
        "import nltk\n",
        "from nltk.tokenize import word_tokenize\n",
        "from Sastrawi.StopWordRemover.StopWordRemoverFactory import StopWordRemoverFactory\n",
        "import re\n",
        "\n",
        "# Download NLTK resources\n",
        "nltk.download('punkt')\n",
        "\n",
        "# Membaca komentar dari file PDF\n",
        "from PyPDF2 import PdfReader\n",
        "\n",
        "def read_pdf(file_path):\n",
        "    reader = PdfReader(file_path)\n",
        "    text = \"\"\n",
        "    for page in reader.pages:\n",
        "        text += page.extract_text()\n",
        "    return text\n",
        "\n",
        "# Tokenisasi dan filtering stopwords\n",
        "def clean_comment(text):\n",
        "    # Tokenisasi\n",
        "    tokens = word_tokenize(text.lower())\n",
        "\n",
        "    # Hapus tanda baca dan karakter selain huruf\n",
        "    tokens = [re.sub(r'[^\\w\\s]', '', token) for token in tokens]\n",
        "\n",
        "    # Inisialisasi stopword remover\n",
        "    factory = StopWordRemoverFactory()\n",
        "    stopword_remover = factory.create_stop_word_remover()\n",
        "\n",
        "    # Filter stopwords\n",
        "    filtered_tokens = [stopword_remover.remove(token) for token in tokens if token]\n",
        "\n",
        "    # Gabungkan kembali hasil tokenisasi yang sudah difilter\n",
        "    return ' '.join(filtered_tokens)\n",
        "\n",
        "# Membaca dan membersihkan komentar dari PDF\n",
        "file_path = \"Komentar_aplikasi_Mobile_Legends.pdf\"  # Added .pdf extension to the filename\n",
        "# Alternatively, provide the full path to the PDF file if it's not in the current directory, for example:\n",
        "# file_path = \"/path/to/your/file/Komentar_aplikasi_Mobile_Legends.pdf\"\n",
        "text = read_pdf(file_path)\n",
        "cleaned_text = clean_comment(text)\n",
        "\n",
        "# Simpan hasil filtering ke file .txt\n",
        "with open(\"filtered_comments.txt\", \"w\") as file:\n",
        "    file.write(cleaned_text)\n",
        "\n",
        "print(\"Komentar sudah difilter dan disimpan di 'filtered_comments.txt'.\")"
      ],
      "cell_type": "code",
      "metadata": {
        "colab": {
          "base_uri": "https://localhost:8080/"
        },
        "id": "rKkTh7e2YVvY",
        "outputId": "8b3caf43-1169-4667-bcd4-6d84a5760a53"
      },
      "execution_count": 3,
      "outputs": [
        {
          "output_type": "stream",
          "name": "stdout",
          "text": [
            "Komentar sudah difilter dan disimpan di 'filtered_comments.txt'.\n"
          ]
        },
        {
          "output_type": "stream",
          "name": "stderr",
          "text": [
            "[nltk_data] Downloading package punkt to /root/nltk_data...\n",
            "[nltk_data]   Package punkt is already up-to-date!\n"
          ]
        }
      ]
    }
  ]
}